{
 "cells": [
  {
   "cell_type": "markdown",
   "metadata": {
    "id": "dCn5gK-8Qhtz"
   },
   "source": [
    "#  Instruction\n",
    "\n",
    "In this notebook, we will learn how to implement DQN using Tensorflow for the [Cartpole environment in OpenAI gym](https://gymnasium.farama.org/environments/classic_control/cart_pole/). You are given a basic skeleton but you need to complete the code where appropriate to solve the cartpole problem.\n",
    "\n",
    "You are free to tweak the code at any part. Your are also free to tweak the hyper-parameters to improve the performance of the agent. At the end you have to evaluate the performance of the agent on 100 independent episodes on the environment and print out the average testing performance.\n",
    "\n",
    "Make sure that your final submission is a notebook that can be run from beginning to end, and that you print out the performance of the agent at the end of the notebook."
   ]
  },
  {
   "cell_type": "code",
   "execution_count": 1,
   "metadata": {
    "id": "7-Vo-FNPRX9V",
    "tags": []
   },
   "outputs": [
    {
     "name": "stderr",
     "output_type": "stream",
     "text": [
      "2024-04-11 20:21:29.133903: I tensorflow/core/platform/cpu_feature_guard.cc:210] This TensorFlow binary is optimized to use available CPU instructions in performance-critical operations.\n",
      "To enable the following instructions: AVX2 FMA, in other operations, rebuild TensorFlow with the appropriate compiler flags.\n"
     ]
    }
   ],
   "source": [
    "import os\n",
    "# !{os.sys.executable} -m pip install gymnasium\n",
    "# !{os.sys.executable} -m pip install Pillow\n",
    "# !{os.sys.executable} -m pip install ipython\n",
    "# !{os.sys.executable} -m pip install pygame\n",
    "\n",
    "from PIL import Image\n",
    "from IPython.display import display\n",
    "\n",
    "import tensorflow as tf\n",
    "from collections import deque\n",
    "import numpy as np\n",
    "%matplotlib inline\n",
    "import matplotlib\n",
    "import matplotlib.pyplot as plt\n",
    "import gymnasium as gym\n",
    "from tensorflow import keras\n",
    "from tensorflow.keras import layers"
   ]
  },
  {
   "cell_type": "code",
   "execution_count": 2,
   "metadata": {
    "id": "hZNKbkOPTeLs",
    "tags": []
   },
   "outputs": [],
   "source": [
    "# Parameters\n",
    "gamma = 0.99  # discount \n",
    "envname = \"CartPole-v1\"  # environment name\n",
    "env=gym.make(envname, render_mode=\"rgb_array\")\n",
    "\n",
    "obssize = env.observation_space.low.size\n",
    "actsize = env.action_space.n"
   ]
  },
  {
   "cell_type": "markdown",
   "metadata": {
    "id": "GujIeXW2RulT"
   },
   "source": [
    "## DQN (Deep Q Network)\n",
    "\n",
    "In previous HWs, we have learned to use Tensorflow to build deep learning models. In this HW, we will apply deep learning as function approximations in reinforcement learning. \n",
    "\n",
    "Reference: DQN https://arxiv.org/abs/1312.5602\n",
    "\n",
    "\n",
    "In tabular Q-learning, we maintain a table of state-action pairs $(s,a)$ and save one action value for each entry $Q(s,a),\\forall (s,a)$. At each time step $t$, we are in state $s_t$, then we choose action based on $\\epsilon-$greedy strategy. With prob $\\epsilon$, choose action uniformly random; with prob $1-\\epsilon$, choose action based on $$a_t = \\arg\\max_a Q(s_t,a)$$ \n",
    "\n",
    "We then get the instant reward $r_t$, update the Q-table using the following rule\n",
    "\n",
    "$$Q(s_t,a_t) \\leftarrow (1-\\alpha)Q(s_t,a_t) + \\alpha (r_t + \\max_a \\gamma Q(s_{t+1},a))$$\n",
    "\n",
    "where $\\alpha \\in (0,1)$ is learning rate. The algorithm is shown to converge in tabular cases. However, in cases where we cannot keep a table for state and action, we need function approximation. Consider using neural network with parameter $\\theta$, the network takes as input state $s$ and action $a$. (*or some features of state and action*). Let $Q_\\theta(s,a)$ be the output of the network, which estimates the optimal Q-value function for state $s$ and action $a$.\n",
    "$$Q_\\theta(s,a) \\approx Q^\\ast(s,a)$$"
   ]
  },
  {
   "cell_type": "code",
   "execution_count": 3,
   "metadata": {
    "id": "494xoDa8SLHG",
    "tags": []
   },
   "outputs": [],
   "source": [
    "from tensorflow.keras import regularizers\n",
    "\n",
    "\n",
    "def model_creator():\n",
    "    model = keras.Sequential()\n",
    "    model.add(layers.Dense(5,activation=\"relu\")) # they orginally have this value 5 here idk why?\n",
    "    # you should later modify this neural network\n",
    "\n",
    "    # model.add(layers.Dense(512, activation=\"relu\", kernel_regularizer=regularizers.l2(0.001))) # Input shape added\n",
    "    # model.add(layers.Dropout(0.5))  # Adding dropout for regularization\n",
    "    # model.add(layers.Dense(512, activation=\"relu\", kernel_regularizer=regularizers.l2(0.001))) # Regularization added\n",
    "    # model.add(layers.Dropout(0.5))\n",
    "    # model.add(layers.Dense(256, activation=\"relu\"))\n",
    "    \n",
    "    # model.add(layers.Dense(512, activation = \"relu\"))\n",
    "    # model.add(layers.Dense(256, activation = \"relu\"))\n",
    "    # model.add(layers.Dense(128, activation = \"relu\"))\n",
    "    # model.add(layers.Dense(64, activation = \"relu\"))\n",
    "    \n",
    "    \n",
    "    model.add(layers.Dense(actsize,activation=\"linear\")) # you should have one output for each possible action\n",
    "    return model"
   ]
  },
  {
   "cell_type": "markdown",
   "metadata": {
    "id": "a9BlBZLeSh2f"
   },
   "source": [
    "We wish to train the neural network in order to find $\\theta$ such that $Q_\\theta(s,a)$ approximates $Q^*(s,a)$. As we discussed in the class, we can use observations of form $(s_i, a_i, r_i, s'_{i})$ (i.e., observing reward $r_i$ and new state $s'_{i}$ on taking action $a_i$ in state $s_i$) for training. Based on observations, we can use stochastic gradient descent to update $\\theta$ in the direction that minimizes the loss function. Further, based on values $Q_\\theta(s,a)$, we can choose the action based on $\\epsilon$-greedy policy."
   ]
  },
  {
   "cell_type": "markdown",
   "metadata": {
    "id": "bHaI6w4BSc3Q"
   },
   "source": [
    "Formally let $d_i$ be the target for the $i$-th sample $(s_t,a_t,r_t,s_{t+1})$\n",
    "\n",
    "$$d_i =  r_t +   \\gamma \\max_a Q_\\theta(s_{t+1},a)$$\n",
    "\n",
    "We can collect a batch of $N$ samples (this generalizes the per sample update $N=1$ discusssed in class), consider the loss fucntion,\n",
    "\n",
    "$$J:=\\frac{1}{N} \\sum_{i=1}^N (Q_\\theta(s_i,a_i) - d_i)^2$$\n",
    "\n",
    "and update\n",
    "\n",
    "$$\n",
    "\\theta \\leftarrow \\theta -\\alpha \\nabla_\\theta J\n",
    "$$\n",
    "\n",
    "This procedure has been shown to be fairly unstable. In class, we discussed two techniques to stabilize the training process: target network and replay buffer.\n",
    "\n",
    "**Replay Buffer**\n",
    "Maintain a buffer $R$ to store trainsition tuples $(s_t,a_t,r_t,s_{t+1})$. When minimizing the loss, we sample batches from the replay buffer and compute gradients for update on these batches. In particular, in each update, we sample $N$ tuples $(s_t,a_t,r_t,s_{t+1})$ from buffer $R$ and then minimize the\n",
    "loss \n",
    "\n",
    "$$\\frac{1}{N} \\sum_{i=1}^N (Q_\\theta(s_i,a_i) -  (r_i + \\gamma \\max_a Q_\\theta(s_i^\\prime,a))^2$$\n",
    "\n",
    "and update parameters.\n",
    "\n",
    "**Target Network**\n",
    "Maintain a target network in addition to the original principal network. The target network is just a copy of the original network but the parameters are not updated by gradients. The target network $\\theta^{-}$ is copied from the principal network every $\\tau$ time steps. Target network is used to compute the targets for update\n",
    "\n",
    "$$d_i = \\max_a r_t + \\gamma Q_{\\theta^{-}}(s_{i}^\\prime,a)$$\n",
    "\n",
    "the targets are used in the loss function to update the principal network parameters. This slowly updated target network ensures that the targets come from a relatively stationary distribution and hence stabilize learning."
   ]
  },
  {
   "cell_type": "code",
   "execution_count": 21,
   "metadata": {
    "id": "WKt2Mt6TTZsk",
    "tags": []
   },
   "outputs": [
    {
     "name": "stdout",
     "output_type": "stream",
     "text": [
      "obssize 4\n"
     ]
    },
    {
     "data": {
      "text/html": [
       "<pre style=\"white-space:pre;overflow-x:auto;line-height:normal;font-family:Menlo,'DejaVu Sans Mono',consolas,'Courier New',monospace\"><span style=\"font-weight: bold\">Model: \"sequential_6\"</span>\n",
       "</pre>\n"
      ],
      "text/plain": [
       "\u001b[1mModel: \"sequential_6\"\u001b[0m\n"
      ]
     },
     "metadata": {},
     "output_type": "display_data"
    },
    {
     "data": {
      "text/html": [
       "<pre style=\"white-space:pre;overflow-x:auto;line-height:normal;font-family:Menlo,'DejaVu Sans Mono',consolas,'Courier New',monospace\">┏━━━━━━━━━━━━━━━━━━━━━━━━━━━━━━━━━┳━━━━━━━━━━━━━━━━━━━━━━━━┳━━━━━━━━━━━━━━━┓\n",
       "┃<span style=\"font-weight: bold\"> Layer (type)                    </span>┃<span style=\"font-weight: bold\"> Output Shape           </span>┃<span style=\"font-weight: bold\">       Param # </span>┃\n",
       "┡━━━━━━━━━━━━━━━━━━━━━━━━━━━━━━━━━╇━━━━━━━━━━━━━━━━━━━━━━━━╇━━━━━━━━━━━━━━━┩\n",
       "│ dense_12 (<span style=\"color: #0087ff; text-decoration-color: #0087ff\">Dense</span>)                │ (<span style=\"color: #00af00; text-decoration-color: #00af00\">32</span>, <span style=\"color: #00af00; text-decoration-color: #00af00\">5</span>)                │            <span style=\"color: #00af00; text-decoration-color: #00af00\">25</span> │\n",
       "├─────────────────────────────────┼────────────────────────┼───────────────┤\n",
       "│ dense_13 (<span style=\"color: #0087ff; text-decoration-color: #0087ff\">Dense</span>)                │ (<span style=\"color: #00af00; text-decoration-color: #00af00\">32</span>, <span style=\"color: #00af00; text-decoration-color: #00af00\">2</span>)                │            <span style=\"color: #00af00; text-decoration-color: #00af00\">12</span> │\n",
       "└─────────────────────────────────┴────────────────────────┴───────────────┘\n",
       "</pre>\n"
      ],
      "text/plain": [
       "┏━━━━━━━━━━━━━━━━━━━━━━━━━━━━━━━━━┳━━━━━━━━━━━━━━━━━━━━━━━━┳━━━━━━━━━━━━━━━┓\n",
       "┃\u001b[1m \u001b[0m\u001b[1mLayer (type)                   \u001b[0m\u001b[1m \u001b[0m┃\u001b[1m \u001b[0m\u001b[1mOutput Shape          \u001b[0m\u001b[1m \u001b[0m┃\u001b[1m \u001b[0m\u001b[1m      Param #\u001b[0m\u001b[1m \u001b[0m┃\n",
       "┡━━━━━━━━━━━━━━━━━━━━━━━━━━━━━━━━━╇━━━━━━━━━━━━━━━━━━━━━━━━╇━━━━━━━━━━━━━━━┩\n",
       "│ dense_12 (\u001b[38;5;33mDense\u001b[0m)                │ (\u001b[38;5;34m32\u001b[0m, \u001b[38;5;34m5\u001b[0m)                │            \u001b[38;5;34m25\u001b[0m │\n",
       "├─────────────────────────────────┼────────────────────────┼───────────────┤\n",
       "│ dense_13 (\u001b[38;5;33mDense\u001b[0m)                │ (\u001b[38;5;34m32\u001b[0m, \u001b[38;5;34m2\u001b[0m)                │            \u001b[38;5;34m12\u001b[0m │\n",
       "└─────────────────────────────────┴────────────────────────┴───────────────┘\n"
      ]
     },
     "metadata": {},
     "output_type": "display_data"
    },
    {
     "data": {
      "text/html": [
       "<pre style=\"white-space:pre;overflow-x:auto;line-height:normal;font-family:Menlo,'DejaVu Sans Mono',consolas,'Courier New',monospace\"><span style=\"font-weight: bold\"> Total params: </span><span style=\"color: #00af00; text-decoration-color: #00af00\">37</span> (148.00 B)\n",
       "</pre>\n"
      ],
      "text/plain": [
       "\u001b[1m Total params: \u001b[0m\u001b[38;5;34m37\u001b[0m (148.00 B)\n"
      ]
     },
     "metadata": {},
     "output_type": "display_data"
    },
    {
     "data": {
      "text/html": [
       "<pre style=\"white-space:pre;overflow-x:auto;line-height:normal;font-family:Menlo,'DejaVu Sans Mono',consolas,'Courier New',monospace\"><span style=\"font-weight: bold\"> Trainable params: </span><span style=\"color: #00af00; text-decoration-color: #00af00\">37</span> (148.00 B)\n",
       "</pre>\n"
      ],
      "text/plain": [
       "\u001b[1m Trainable params: \u001b[0m\u001b[38;5;34m37\u001b[0m (148.00 B)\n"
      ]
     },
     "metadata": {},
     "output_type": "display_data"
    },
    {
     "data": {
      "text/html": [
       "<pre style=\"white-space:pre;overflow-x:auto;line-height:normal;font-family:Menlo,'DejaVu Sans Mono',consolas,'Courier New',monospace\"><span style=\"font-weight: bold\"> Non-trainable params: </span><span style=\"color: #00af00; text-decoration-color: #00af00\">0</span> (0.00 B)\n",
       "</pre>\n"
      ],
      "text/plain": [
       "\u001b[1m Non-trainable params: \u001b[0m\u001b[38;5;34m0\u001b[0m (0.00 B)\n"
      ]
     },
     "metadata": {},
     "output_type": "display_data"
    }
   ],
   "source": [
    "batch_size = 32\n",
    "# Model used for selecting actions (principal)\n",
    "model = model_creator()\n",
    "# Then create the target model. This will periodically be copied from the principal network \n",
    "model_target = model_creator()\n",
    "print(\"obssize\", obssize)\n",
    "model.build((batch_size,obssize,))\n",
    "model_target.build((batch_size,obssize,))\n",
    "model.summary()\n"
   ]
  },
  {
   "cell_type": "markdown",
   "metadata": {
    "id": "0JA7a0AXiVO7"
   },
   "source": [
    "- Complete the code below to learn an Agent using DQN. \n",
    "- You should tweak the Neural network appropriately to achieve a good reward (>100). Ideally you would want to have a reward close to 200.\n",
    "- The reference paper performs updates every 4 actions. You can experiment with this parameter to speed up the learning\n",
    "- You can experiment with other parameters as well, like learning rate, memory size, different exploration schemes (e.g., adaptive $\\epsilon$ or strategic explorations with bonus rewards) and others.\n",
    "\n",
    "- As we mentioned in class, there are multiple ways to improve the efficiency even further. OPTIONALLY you can experiment with these:\n",
    "  - Prioritized Replay buffer.\n",
    "  - Double DQN \n",
    "  -Dueling DQN architecture.\n",
    "\n",
    "- In case you need to debug your code you can try printing relevant information as the training happens. For example although the performance might vary from iteration to iteration, the average Q values might increase overtime in a more smooth way. This is discussed in the refernece paper\n",
    "\n",
    "- Create a plot of the running reward sampled throughout the training at the frequency of your choice at the end of the training\n",
    "- OPTIONALLY you can create a plot for the average Q-values of the principal Q-network sampled at the frequency of your choice\n",
    "\n",
    "- Ideally you want to learn with as few episodes as possible. However you will not be graded on sample efficiency in this homework. You encouraged to try to learn efficiently though.\n",
    "\n",
    "- Note that the skeleton code includes the GradientTape construct to do the learning. Take a look [here](https://www.tensorflow.org/api_docs/python/tf/GradientTape) for an explanation of GradientTape. It allows for more flexibility than model.fit. Also it uses Adam (Adaptive Moment Estimation) for Stochastic Gradient Descent optimizer. "
   ]
  },
  {
   "cell_type": "code",
   "execution_count": 22,
   "metadata": {
    "id": "Kn81y4Iz_QlJ"
   },
   "outputs": [
    {
     "name": "stdout",
     "output_type": "stream",
     "text": [
      "running reward: 19.75 at episode 4, frame count 100, epsilon 1\n",
      "running reward: 19.60 at episode 10, frame count 200, epsilon 1\n",
      "running reward: 18.25 at episode 16, frame count 300, epsilon 1\n",
      "running reward: 19.65 at episode 20, frame count 400, epsilon 1\n",
      "running reward: 19.32 at episode 25, frame count 500, epsilon 1\n",
      "running reward: 18.69 at episode 32, frame count 600, epsilon 1\n",
      "running reward: 18.24 at episode 38, frame count 700, epsilon 1\n",
      "running reward: 18.48 at episode 42, frame count 800, epsilon 1\n",
      "running reward: 19.13 at episode 47, frame count 900, epsilon 1\n",
      "running reward: 19.29 at episode 49, frame count 1000, epsilon 1\n",
      "running reward: 21.00 at episode 52, frame count 1100, epsilon 1\n",
      "running reward: 20.31 at episode 58, frame count 1200, epsilon 1\n",
      "running reward: 20.44 at episode 63, frame count 1300, epsilon 1\n",
      "running reward: 20.41 at episode 68, frame count 1400, epsilon 1\n",
      "running reward: 20.58 at episode 72, frame count 1500, epsilon 1\n",
      "running reward: 20.47 at episode 78, frame count 1600, epsilon 1\n",
      "running reward: 20.46 at episode 83, frame count 1700, epsilon 1\n",
      "running reward: 20.59 at episode 87, frame count 1800, epsilon 1\n",
      "running reward: 21.08 at episode 90, frame count 1900, epsilon 1\n",
      "running reward: 21.26 at episode 93, frame count 2000, epsilon 1\n",
      "running reward: 21.20 at episode 99, frame count 2100, epsilon 1\n",
      "running reward: 21.04 at episode 104, frame count 2200, epsilon 0.9949999999999999\n",
      "running reward: 21.16 at episode 108, frame count 2300, epsilon 0.9883333333333331\n",
      "running reward: 21.48 at episode 111, frame count 2400, epsilon 0.983333333333333\n",
      "running reward: 21.09 at episode 118, frame count 2500, epsilon 0.971666666666666\n",
      "running reward: 21.10 at episode 123, frame count 2600, epsilon 0.9633333333333325\n",
      "running reward: 20.88 at episode 129, frame count 2700, epsilon 0.9533333333333323\n",
      "running reward: 20.58 at episode 136, frame count 2800, epsilon 0.9416666666666653\n",
      "running reward: 20.46 at episode 140, frame count 2900, epsilon 0.9349999999999985\n",
      "running reward: 20.35 at episode 147, frame count 3000, epsilon 0.9233333333333316\n",
      "running reward: 20.47 at episode 150, frame count 3100, epsilon 0.9183333333333314\n",
      "running reward: 20.60 at episode 155, frame count 3200, epsilon 0.9099999999999979\n",
      "running reward: 20.67 at episode 158, frame count 3300, epsilon 0.9049999999999978\n",
      "running reward: 20.50 at episode 165, frame count 3400, epsilon 0.8933333333333309\n",
      "running reward: 20.42 at episode 171, frame count 3500, epsilon 0.8833333333333306\n",
      "running reward: 20.24 at episode 176, frame count 3600, epsilon 0.8749999999999971\n",
      "running reward: 20.23 at episode 181, frame count 3700, epsilon 0.8666666666666636\n",
      "running reward: 20.34 at episode 186, frame count 3800, epsilon 0.8583333333333301\n",
      "running reward: 20.22 at episode 191, frame count 3900, epsilon 0.8499999999999965\n",
      "running reward: 20.31 at episode 195, frame count 4000, epsilon 0.8433333333333297\n",
      "running reward: 20.46 at episode 200, frame count 4100, epsilon 0.8349999999999962\n",
      "running reward: 20.33 at episode 206, frame count 4200, epsilon 0.824999999999996\n",
      "running reward: 20.44 at episode 210, frame count 4300, epsilon 0.8183333333333291\n",
      "running reward: 20.60 at episode 213, frame count 4400, epsilon 0.813333333333329\n",
      "running reward: 20.52 at episode 217, frame count 4500, epsilon 0.8066666666666622\n",
      "running reward: 20.63 at episode 222, frame count 4600, epsilon 0.7983333333333287\n",
      "running reward: 20.56 at episode 228, frame count 4700, epsilon 0.7883333333333284\n",
      "running reward: 20.49 at episode 234, frame count 4800, epsilon 0.7783333333333282\n",
      "running reward: 20.49 at episode 239, frame count 4900, epsilon 0.7699999999999947\n",
      "running reward: 20.38 at episode 244, frame count 5000, epsilon 0.7616666666666612\n",
      "running reward: 20.36 at episode 250, frame count 5100, epsilon 0.7516666666666609\n",
      "running reward: 20.19 at episode 257, frame count 5200, epsilon 0.739999999999994\n",
      "running reward: 20.11 at episode 263, frame count 5300, epsilon 0.7299999999999938\n",
      "running reward: 20.03 at episode 269, frame count 5400, epsilon 0.7199999999999935\n",
      "running reward: 19.91 at episode 276, frame count 5500, epsilon 0.7083333333333266\n",
      "running reward: 19.75 at episode 283, frame count 5600, epsilon 0.6966666666666597\n",
      "running reward: 19.70 at episode 289, frame count 5700, epsilon 0.6866666666666594\n",
      "running reward: 19.79 at episode 293, frame count 5800, epsilon 0.6799999999999926\n",
      "running reward: 19.65 at episode 299, frame count 5900, epsilon 0.6699999999999924\n",
      "running reward: 19.67 at episode 305, frame count 6000, epsilon 0.6599999999999921\n",
      "running reward: 19.66 at episode 310, frame count 6100, epsilon 0.6516666666666586\n",
      "running reward: 19.56 at episode 317, frame count 6200, epsilon 0.6399999999999917\n",
      "running reward: 19.42 at episode 324, frame count 6300, epsilon 0.6283333333333248\n",
      "running reward: 19.36 at episode 330, frame count 6400, epsilon 0.6183333333333245\n",
      "running reward: 19.35 at episode 335, frame count 6500, epsilon 0.609999999999991\n",
      "running reward: 19.32 at episode 341, frame count 6600, epsilon 0.5999999999999908\n",
      "running reward: 19.20 at episode 348, frame count 6700, epsilon 0.5883333333333238\n",
      "running reward: 19.22 at episode 353, frame count 6800, epsilon 0.5799999999999903\n",
      "running reward: 19.06 at episode 362, frame count 6900, epsilon 0.56499999999999\n",
      "running reward: 18.98 at episode 368, frame count 7000, epsilon 0.5549999999999897\n",
      "running reward: 18.95 at episode 374, frame count 7100, epsilon 0.5449999999999895\n",
      "running reward: 18.82 at episode 382, frame count 7200, epsilon 0.5316666666666559\n",
      "running reward: 18.74 at episode 389, frame count 7300, epsilon 0.5199999999999889\n",
      "running reward: 18.70 at episode 395, frame count 7400, epsilon 0.5099999999999887\n",
      "running reward: 18.63 at episode 402, frame count 7500, epsilon 0.49833333333332186\n",
      "running reward: 18.58 at episode 408, frame count 7600, epsilon 0.48833333333332196\n",
      "running reward: 18.50 at episode 416, frame count 7700, epsilon 0.47499999999998876\n",
      "running reward: 18.41 at episode 423, frame count 7800, epsilon 0.4633333333333222\n",
      "running reward: 18.27 at episode 432, frame count 7900, epsilon 0.44833333333332237\n",
      "running reward: 18.20 at episode 439, frame count 8000, epsilon 0.4366666666666558\n",
      "running reward: 18.11 at episode 447, frame count 8100, epsilon 0.4233333333333226\n",
      "running reward: 18.00 at episode 455, frame count 8200, epsilon 0.40999999999998943\n",
      "running reward: 17.94 at episode 462, frame count 8300, epsilon 0.3983333333333229\n",
      "running reward: 17.83 at episode 471, frame count 8400, epsilon 0.38333333333332303\n",
      "running reward: 17.76 at episode 478, frame count 8500, epsilon 0.3716666666666565\n",
      "running reward: 17.69 at episode 486, frame count 8600, epsilon 0.3583333333333233\n",
      "running reward: 17.57 at episode 495, frame count 8700, epsilon 0.34333333333332344\n",
      "running reward: 17.46 at episode 504, frame count 8800, epsilon 0.3283333333333236\n",
      "running reward: 17.36 at episode 512, frame count 8900, epsilon 0.3149999999999904\n",
      "running reward: 17.29 at episode 520, frame count 9000, epsilon 0.3016666666666572\n",
      "running reward: 17.19 at episode 529, frame count 9100, epsilon 0.28666666666665735\n",
      "running reward: 17.09 at episode 538, frame count 9200, epsilon 0.2716666666666575\n",
      "running reward: 16.99 at episode 547, frame count 9300, epsilon 0.25666666666665766\n",
      "running reward: 16.90 at episode 556, frame count 9400, epsilon 0.24166666666665765\n",
      "running reward: 16.78 at episode 566, frame count 9500, epsilon 0.22499999999999087\n",
      "running reward: 16.66 at episode 576, frame count 9600, epsilon 0.2083333333333241\n",
      "running reward: 16.55 at episode 586, frame count 9700, epsilon 0.19166666666665733\n",
      "running reward: 16.46 at episode 595, frame count 9800, epsilon 0.17666666666665723\n",
      "Done\n"
     ]
    }
   ],
   "source": [
    "import random\n",
    "\n",
    "\n",
    "# optimizer = keras.optimizers.Adam(learning_rate=0.0005) # og value is 0.0005\n",
    "optimizer = keras.optimizers.SGD(learning_rate=0.0005)\n",
    "\n",
    "# Our Experience Replay memory \n",
    "action_history = []\n",
    "state_history = []\n",
    "state_next_history = []\n",
    "rewards_history = []\n",
    "done_history = []\n",
    "episode_reward_history = []\n",
    "loss_values = []  # List to store loss values\n",
    "\n",
    "# Replay memory size\n",
    "max_memory = 10000 # You can experiment with different sizes.\n",
    "\n",
    "running_reward = 0\n",
    "episode_count = 0\n",
    "timestep_count = 0\n",
    "\n",
    "\n",
    "# how often to train your model - this allows you to speed up learning\n",
    "# by not performing in every iteration learning. See also refernece paper\n",
    "# you can set this value to other values like 1 as well to learn every time \n",
    "\n",
    "update_after_actions = 4 # og 4\n",
    "\n",
    "# How often to update the target network\n",
    "target_update_every = 100 #drop this down to a much smaller number, og 1000\n",
    "# loss_function = keras.losses.Huber() # You can use the Huber loss function or the mean squared error function\n",
    "loss_function = keras.losses.MeanSquaredError()\n",
    "\n",
    "max_steps_per_episode = 1000\n",
    "\n",
    "max_episodes = 600 # 500 og\n",
    "last_n_reward = 1000000 #og 100, experimented with 100000\n",
    "\n",
    "\n",
    "epsilon = 1 #means 100% probability of choosing random action\n",
    "epsilon_decay_rate = 1/(max_episodes*1.0) # reduce the dependence on random actions over time\n",
    "rng = np.random.default_rng() # creates a random number generator to be called later\n",
    "\n",
    "# i added this in \n",
    "penalty = 0\n",
    "\n",
    "for episode in range(max_episodes):\n",
    "    #state = np.array(env.reset()) #their code\n",
    "    state = env.reset()[0]\n",
    "    state = np.array(state)\n",
    "    # print(\"Episode\", episode)\n",
    "    \n",
    "    episode_reward = 0\n",
    "\n",
    "    for timestep in range(1, max_steps_per_episode):\n",
    "        timestep_count += 1\n",
    "        \n",
    "        # exploration\n",
    "        if rng.random() < epsilon:\n",
    "            # Take random action\n",
    "            action = np.random.choice(actsize)\n",
    "        else:\n",
    "            # Predict action Q-values\n",
    "            # From environment state\n",
    "            state_t = tf.convert_to_tensor(state)\n",
    "            #state_t = tf.expand_dims(state_tensor, 0) #their code\n",
    "            state_t = tf.expand_dims(state_t, 0)\n",
    "            action_vals = model(state_t, training=False)\n",
    "            # Choose the best action\n",
    "            action = np.argmax(action_vals)\n",
    "\n",
    "        # follow selected action\n",
    "        # asdf = env.step(action)\n",
    "        # print(\"env.step(action)\", asdf, len(asdf))\n",
    "        # state_next, reward, done, _ = env.step(action) #their code\n",
    "        \n",
    "        state_next, reward, done, _, _ = env.step(action) # my code\n",
    "        state_next = np.array(state_next)\n",
    "        episode_reward += reward\n",
    "\n",
    "        # Save action/states and other information in replay buffer\n",
    "        action_history.append(action)\n",
    "        state_history.append(state)\n",
    "        state_next_history.append(state_next)\n",
    "        rewards_history.append(reward)\n",
    "        done_history.append(done)\n",
    "        # ...\n",
    "        # ...\n",
    "\n",
    "        state = state_next\n",
    "\n",
    "        # Update every Xth frame to speed up (optional)\n",
    "        # and if you have sufficient history\n",
    "        if timestep_count % update_after_actions == 0 and len(action_history) > batch_size:\n",
    "            \n",
    "            #  Sample a set of batch_size memories from the history\n",
    "            random_indices = random.sample(range(len(action_history)), batch_size)\n",
    "            \n",
    "            state_sample = [state_history[i] for i in random_indices]\n",
    "            state_next_sample = [state_next_history[i] for i in random_indices]\n",
    "            rewards_sample = [rewards_history[i] for i in random_indices]\n",
    "            done_sample = [done_history[i] for i in random_indices]\n",
    "            action_sample = [action_history[i] for i in random_indices]\n",
    "\n",
    "            # Create for the sample states the targets (r+gamma * max Q(...) )\n",
    "            state_n_t = tf.convert_to_tensor(state_next_sample)\n",
    "            \n",
    "            Q_next_state = model_target.predict(state_n_t, verbose = 0)\n",
    "\n",
    "            done_sample_np = np.array(done_sample).astype(int)\n",
    "            \n",
    "            Q_targets = rewards_sample + gamma * np.max(Q_next_state)*(1-done_sample_np) - done_sample_np*penalty\n",
    "\n",
    "            # If the episode was ended (done_sample value is 1)\n",
    "            # you can penalize the Q value of the target by some value `penalty`\n",
    "            \n",
    "            # done_sample_np = np.array(done_sample).astype(int)\n",
    "            \n",
    "            #Q_targets = Q_targets * (1 - done_sample_np) - penalty*done_sample_np #their code\n",
    "            \n",
    "            # Q_targets = Q_targets - done_sample_np*penalty*gamma*np.max(Q_next_state) # my thoughts?\n",
    "\n",
    "\n",
    "            # What actions are relevant and need updating\n",
    "\n",
    "            relevant_actions = tf.one_hot(action_sample, actsize)\n",
    "\n",
    "            # we will use Gradient tape to do a custom gradient \n",
    "            # in the `with` environment we will record a set of operations\n",
    "            # and then we will take gradients with respect to the trainable parameters\n",
    "            # in the neural network\n",
    "            with tf.GradientTape() as tape:\n",
    "                # Train the model on your action selecting network\n",
    "                state_sample_t = tf.convert_to_tensor(state_sample)\n",
    "                q_values = model(state_sample_t, training=True)  #added training=true?\n",
    "                # We consider only the relevant actions\n",
    "                Q_of_actions = tf.reduce_sum(tf.multiply(q_values, relevant_actions), axis=1)\n",
    "                # Calculate loss between principal network and target network\n",
    "                loss = loss_function(Q_targets, Q_of_actions)\n",
    "                # Log loss value\n",
    "                loss_values.append(loss.numpy())\n",
    "\n",
    "\n",
    "            \n",
    "            # Nudge the weights of the trainable variables towards\n",
    "            grads = tape.gradient(loss, model.trainable_variables)\n",
    "            optimizer.apply_gradients(zip(grads, model.trainable_variables))\n",
    "            \n",
    "\n",
    "            \n",
    "            \n",
    "            \n",
    "            \n",
    "            \n",
    "        if timestep_count % target_update_every == 0:\n",
    "            # update the the target network with new weights\n",
    "            model_target.set_weights(model.get_weights())\n",
    "            # Log details\n",
    "            template = \"running reward: {:.2f} at episode {}, frame count {}, epsilon {}\"\n",
    "            # debug\n",
    "            frame_count = timestep_count\n",
    "            print(template.format(running_reward, episode_count, frame_count,epsilon))\n",
    "            \n",
    "        # Don't let the memory grow beyond the limit\n",
    "        if len(rewards_history) > max_memory:\n",
    "            del rewards_history[:1]\n",
    "            del state_history[:1]\n",
    "            del state_next_history[:1]\n",
    "            del action_history[:1]\n",
    "            del done_history[:1]\n",
    "        if done: break\n",
    "\n",
    "    # reward of last 100\n",
    "    episode_reward_history.append(episode_reward)\n",
    "    if len(episode_reward_history) > last_n_reward: del episode_reward_history[:1]\n",
    "    running_reward = np.mean(episode_reward_history)\n",
    "    episode_count += 1\n",
    "    \n",
    "    if(episode > 100):\n",
    "        epsilon = max(0.1, epsilon - epsilon_decay_rate)\n",
    "\n",
    "    # If you want to stop your training once you achieve the reward you want you can\n",
    "    # have an if statement here. Alternatively you can stop after a fixed number\n",
    "    # of episodes.\n",
    "print(\"Done\")"
   ]
  },
  {
   "cell_type": "code",
   "execution_count": 23,
   "metadata": {},
   "outputs": [
    {
     "name": "stdout",
     "output_type": "stream",
     "text": [
      "600\n"
     ]
    },
    {
     "data": {
      "image/png": "[encoded data removed]",
      "text/plain": [
       "<Figure size 640x480 with 1 Axes>"
      ]
     },
     "metadata": {},
     "output_type": "display_data"
    }
   ],
   "source": [
    "import matplotlib.pyplot as plt\n",
    "\n",
    "# Plot episode reward history\n",
    "print(len(episode_reward_history))\n",
    "plt.plot(episode_reward_history, label='Episode Reward')\n",
    "plt.xlabel('Episode')\n",
    "plt.ylabel('Reward')\n",
    "plt.title('Episode Reward over Time')\n",
    "plt.legend()\n",
    "plt.show()\n"
   ]
  },
  {
   "cell_type": "code",
   "execution_count": 24,
   "metadata": {},
   "outputs": [
    {
     "data": {
      "image/png": "[encoded data removed]",
      "text/plain": [
       "<Figure size 640x480 with 1 Axes>"
      ]
     },
     "metadata": {},
     "output_type": "display_data"
    }
   ],
   "source": [
    "# Plot loss values over training episodes\n",
    "plt.plot(loss_values)\n",
    "plt.xlabel('Episode')\n",
    "plt.ylabel('Loss')\n",
    "plt.title('Training Loss')\n",
    "plt.show()"
   ]
  },
  {
   "cell_type": "markdown",
   "metadata": {
    "id": "Y-kUmOPTiMXX"
   },
   "source": [
    "Evaluate the performance of the agent on 100 episodes on the environment and print out the average testing performance. Alternatively you can make sure the code above terminates with 100 episodes where there is no exploration at all (epsilon=0)."
   ]
  },
  {
   "cell_type": "code",
   "execution_count": 8,
   "metadata": {
    "id": "xe2V09jdiNXI"
   },
   "outputs": [],
   "source": [
    "# YOUR CODE Here"
   ]
  },
  {
   "cell_type": "code",
   "execution_count": null,
   "metadata": {},
   "outputs": [],
   "source": []
  }
 ],
 "metadata": {
  "accelerator": "GPU",
  "colab": {
   "provenance": []
  },
  "kernelspec": {
   "display_name": "Python 3 (Local)",
   "language": "python",
   "name": "python3"
  },
  "language_info": {
   "codemirror_mode": {
    "name": "ipython",
    "version": 3
   },
   "file_extension": ".py",
   "mimetype": "text/x-python",
   "name": "python",
   "nbconvert_exporter": "python",
   "pygments_lexer": "ipython3",
   "version": "3.10.13"
  }
 },
 "nbformat": 4,
 "nbformat_minor": 4
}
