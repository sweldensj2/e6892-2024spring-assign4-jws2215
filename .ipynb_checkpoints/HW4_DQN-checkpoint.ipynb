{
 "cells": [
  {
   "cell_type": "markdown",
   "metadata": {
    "id": "dCn5gK-8Qhtz"
   },
   "source": [
    "#  Instruction\n",
    "\n",
    "In this notebook, we will learn how to implement DQN using Tensorflow for the [Cartpole environment in OpenAI gym](https://gymnasium.farama.org/environments/classic_control/cart_pole/). You are given a basic skeleton but you need to complete the code where appropriate to solve the cartpole problem.\n",
    "\n",
    "You are free to tweak the code at any part. Your are also free to tweak the hyper-parameters to improve the performance of the agent. At the end you have to evaluate the performance of the agent on 100 independent episodes on the environment and print out the average testing performance.\n",
    "\n",
    "Make sure that your final submission is a notebook that can be run from beginning to end, and that you print out the performance of the agent at the end of the notebook."
   ]
  },
  {
   "cell_type": "code",
   "execution_count": 13,
   "metadata": {
    "id": "7-Vo-FNPRX9V",
    "tags": []
   },
   "outputs": [],
   "source": [
    "import os\n",
    "# !{os.sys.executable} -m pip install gymnasium\n",
    "# !{os.sys.executable} -m pip install Pillow\n",
    "# !{os.sys.executable} -m pip install ipython\n",
    "# !{os.sys.executable} -m pip install pygame\n",
    "\n",
    "from PIL import Image\n",
    "from IPython.display import display\n",
    "\n",
    "import tensorflow as tf\n",
    "from collections import deque\n",
    "import numpy as np\n",
    "%matplotlib inline\n",
    "import matplotlib\n",
    "import matplotlib.pyplot as plt\n",
    "import gymnasium as gym\n",
    "from tensorflow import keras\n",
    "from tensorflow.keras import layers"
   ]
  },
  {
   "cell_type": "code",
   "execution_count": 14,
   "metadata": {
    "id": "hZNKbkOPTeLs",
    "tags": []
   },
   "outputs": [],
   "source": [
    "# Parameters\n",
    "gamma = 0.99  # discount \n",
    "envname = \"CartPole-v1\"  # environment name\n",
    "env=gym.make(envname, render_mode=\"rgb_array\")\n",
    "\n",
    "obssize = env.observation_space.low.size\n",
    "actsize = env.action_space.n"
   ]
  },
  {
   "cell_type": "markdown",
   "metadata": {
    "id": "GujIeXW2RulT"
   },
   "source": [
    "## DQN (Deep Q Network)\n",
    "\n",
    "In previous HWs, we have learned to use Tensorflow to build deep learning models. In this HW, we will apply deep learning as function approximations in reinforcement learning. \n",
    "\n",
    "Reference: DQN https://arxiv.org/abs/1312.5602\n",
    "\n",
    "\n",
    "In tabular Q-learning, we maintain a table of state-action pairs $(s,a)$ and save one action value for each entry $Q(s,a),\\forall (s,a)$. At each time step $t$, we are in state $s_t$, then we choose action based on $\\epsilon-$greedy strategy. With prob $\\epsilon$, choose action uniformly random; with prob $1-\\epsilon$, choose action based on $$a_t = \\arg\\max_a Q(s_t,a)$$ \n",
    "\n",
    "We then get the instant reward $r_t$, update the Q-table using the following rule\n",
    "\n",
    "$$Q(s_t,a_t) \\leftarrow (1-\\alpha)Q(s_t,a_t) + \\alpha (r_t + \\max_a \\gamma Q(s_{t+1},a))$$\n",
    "\n",
    "where $\\alpha \\in (0,1)$ is learning rate. The algorithm is shown to converge in tabular cases. However, in cases where we cannot keep a table for state and action, we need function approximation. Consider using neural network with parameter $\\theta$, the network takes as input state $s$ and action $a$. (*or some features of state and action*). Let $Q_\\theta(s,a)$ be the output of the network, which estimates the optimal Q-value function for state $s$ and action $a$.\n",
    "$$Q_\\theta(s,a) \\approx Q^\\ast(s,a)$$"
   ]
  },
  {
   "cell_type": "code",
   "execution_count": 15,
   "metadata": {
    "id": "494xoDa8SLHG",
    "tags": []
   },
   "outputs": [],
   "source": [
    "def model_creator():\n",
    "    model = keras.Sequential()\n",
    "    model.add(layers.Dense(5,activation=\"relu\"))\n",
    "    # you should later modify this neural network\n",
    "    model.add(layers.Dense(actsize,activation=\"linear\")) # you should have one output for each possible action\n",
    "    return model"
   ]
  },
  {
   "cell_type": "markdown",
   "metadata": {
    "id": "a9BlBZLeSh2f"
   },
   "source": [
    "We wish to train the neural network in order to find $\\theta$ such that $Q_\\theta(s,a)$ approximates $Q^*(s,a)$. As we discussed in the class, we can use observations of form $(s_i, a_i, r_i, s'_{i})$ (i.e., observing reward $r_i$ and new state $s'_{i}$ on taking action $a_i$ in state $s_i$) for training. Based on observations, we can use stochastic gradient descent to update $\\theta$ in the direction that minimizes the loss function. Further, based on values $Q_\\theta(s,a)$, we can choose the action based on $\\epsilon$-greedy policy."
   ]
  },
  {
   "cell_type": "markdown",
   "metadata": {
    "id": "bHaI6w4BSc3Q"
   },
   "source": [
    "Formally let $d_i$ be the target for the $i$-th sample $(s_t,a_t,r_t,s_{t+1})$\n",
    "\n",
    "$$d_i =  r_t +   \\gamma \\max_a Q_\\theta(s_{t+1},a)$$\n",
    "\n",
    "We can collect a batch of $N$ samples (this generalizes the per sample update $N=1$ discusssed in class), consider the loss fucntion,\n",
    "\n",
    "$$J:=\\frac{1}{N} \\sum_{i=1}^N (Q_\\theta(s_i,a_i) - d_i)^2$$\n",
    "\n",
    "and update\n",
    "\n",
    "$$\n",
    "\\theta \\leftarrow \\theta -\\alpha \\nabla_\\theta J\n",
    "$$\n",
    "\n",
    "This procedure has been shown to be fairly unstable. In class, we discussed two techniques to stabilize the training process: target network and replay buffer.\n",
    "\n",
    "**Replay Buffer**\n",
    "Maintain a buffer $R$ to store trainsition tuples $(s_t,a_t,r_t,s_{t+1})$. When minimizing the loss, we sample batches from the replay buffer and compute gradients for update on these batches. In particular, in each update, we sample $N$ tuples $(s_t,a_t,r_t,s_{t+1})$ from buffer $R$ and then minimize the\n",
    "loss \n",
    "\n",
    "$$\\frac{1}{N} \\sum_{i=1}^N (Q_\\theta(s_i,a_i) -  (r_i + \\gamma \\max_a Q_\\theta(s_i^\\prime,a))^2$$\n",
    "\n",
    "and update parameters.\n",
    "\n",
    "**Target Network**\n",
    "Maintain a target network in addition to the original principal network. The target network is just a copy of the original network but the parameters are not updated by gradients. The target network $\\theta^{-}$ is copied from the principal network every $\\tau$ time steps. Target network is used to compute the targets for update\n",
    "\n",
    "$$d_i = \\max_a r_t + \\gamma Q_{\\theta^{-}}(s_{i}^\\prime,a)$$\n",
    "\n",
    "the targets are used in the loss function to update the principal network parameters. This slowly updated target network ensures that the targets come from a relatively stationary distribution and hence stabilize learning."
   ]
  },
  {
   "cell_type": "code",
   "execution_count": 16,
   "metadata": {
    "id": "WKt2Mt6TTZsk",
    "tags": []
   },
   "outputs": [],
   "source": [
    "batch_size = 32\n",
    "# Model used for selecting actions (principal)\n",
    "model = model_creator()\n",
    "# Then create the target model. This will periodically be copied from the principal network \n",
    "model_target = model_creator()\n",
    "\n",
    "model.build((batch_size,obssize,))\n",
    "model_target.build((batch_size,obssize,))"
   ]
  },
  {
   "cell_type": "markdown",
   "metadata": {
    "id": "0JA7a0AXiVO7"
   },
   "source": [
    "- Complete the code below to learn an Agent using DQN. \n",
    "- You should tweak the Neural network appropriately to achieve a good reward (>100). Ideally you would want to have a reward close to 200.\n",
    "- The reference paper performs updates every 4 actions. You can experiment with this parameter to speed up the learning\n",
    "- You can experiment with other parameters as well, like learning rate, memory size, different exploration schemes (e.g., adaptive $\\epsilon$ or strategic explorations with bonus rewards) and others.\n",
    "\n",
    "- As we mentioned in class, there are multiple ways to improve the efficiency even further. OPTIONALLY you can experiment with these:\n",
    "  - Prioritized Replay buffer.\n",
    "  - Double DQN \n",
    "  -Dueling DQN architecture.\n",
    "\n",
    "- In case you need to debug your code you can try printing relevant information as the training happens. For example although the performance might vary from iteration to iteration, the average Q values might increase overtime in a more smooth way. This is discussed in the refernece paper\n",
    "\n",
    "- Create a plot of the running reward sampled throughout the training at the frequency of your choice at the end of the training\n",
    "- OPTIONALLY you can create a plot for the average Q-values of the principal Q-network sampled at the frequency of your choice\n",
    "\n",
    "- Ideally you want to learn with as few episodes as possible. However you will not be graded on sample efficiency in this homework. You encouraged to try to learn efficiently though.\n",
    "\n",
    "- Note that the skeleton code includes the GradientTape construct to do the learning. Take a look [here](https://www.tensorflow.org/api_docs/python/tf/GradientTape) for an explanation of GradientTape. It allows for more flexibility than model.fit. Also it uses Adam (Adaptive Moment Estimation) for Stochastic Gradient Descent optimizer. "
   ]
  },
  {
   "cell_type": "code",
   "execution_count": 31,
   "metadata": {
    "id": "Kn81y4Iz_QlJ"
   },
   "outputs": [
    {
     "name": "stdout",
     "output_type": "stream",
     "text": [
      "state [-0.01197494  0.00132405 -0.03359745  0.02057897]\n",
      "state [-0.00534606 -0.03792212  0.01268156  0.00066988]\n",
      "state [-0.00361048 -0.01647903  0.04563836 -0.01182302]\n"
     ]
    },
    {
     "ename": "ValueError",
     "evalue": "Exception encountered when calling Sequential.call().\n\n\u001b[1mInvalid input shape for input Tensor(\"data:0\", shape=(4,), dtype=float32). Expected shape (32, 4), but input has incompatible shape (4,)\u001b[0m\n\nArguments received by Sequential.call():\n  • inputs=('tf.Tensor(shape=(4,), dtype=float32)', 'tf.Tensor(shape=(4,), dtype=float32)', 'tf.Tensor(shape=(4,), dtype=float32)', 'tf.Tensor(shape=(4,), dtype=float32)', 'tf.Tensor(shape=(4,), dtype=float32)', 'tf.Tensor(shape=(4,), dtype=float32)', 'tf.Tensor(shape=(4,), dtype=float32)', 'tf.Tensor(shape=(4,), dtype=float32)', 'tf.Tensor(shape=(4,), dtype=float32)', 'tf.Tensor(shape=(4,), dtype=float32)', 'tf.Tensor(shape=(4,), dtype=float32)', 'tf.Tensor(shape=(4,), dtype=float32)', 'tf.Tensor(shape=(4,), dtype=float32)', 'tf.Tensor(shape=(4,), dtype=float32)', 'tf.Tensor(shape=(4,), dtype=float32)', 'tf.Tensor(shape=(4,), dtype=float32)', 'tf.Tensor(shape=(4,), dtype=float32)', 'tf.Tensor(shape=(4,), dtype=float32)', 'tf.Tensor(shape=(4,), dtype=float32)', 'tf.Tensor(shape=(4,), dtype=float32)', 'tf.Tensor(shape=(4,), dtype=float32)', 'tf.Tensor(shape=(4,), dtype=float32)', 'tf.Tensor(shape=(4,), dtype=float32)', 'tf.Tensor(shape=(4,), dtype=float32)', 'tf.Tensor(shape=(4,), dtype=float32)', 'tf.Tensor(shape=(4,), dtype=float32)', 'tf.Tensor(shape=(4,), dtype=float32)', 'tf.Tensor(shape=(4,), dtype=float32)', 'tf.Tensor(shape=(4,), dtype=float32)', 'tf.Tensor(shape=(4,), dtype=float32)', 'tf.Tensor(shape=(4,), dtype=float32)', 'tf.Tensor(shape=(4,), dtype=float32)')\n  • training=False\n  • mask=('None', 'None', 'None', 'None', 'None', 'None', 'None', 'None', 'None', 'None', 'None', 'None', 'None', 'None', 'None', 'None', 'None', 'None', 'None', 'None', 'None', 'None', 'None', 'None', 'None', 'None', 'None', 'None', 'None', 'None', 'None', 'None')",
     "output_type": "error",
     "traceback": [
      "\u001b[0;31m---------------------------------------------------------------------------\u001b[0m",
      "\u001b[0;31mValueError\u001b[0m                                Traceback (most recent call last)",
      "Cell \u001b[0;32mIn[31], line 98\u001b[0m\n\u001b[1;32m     95\u001b[0m action_sample \u001b[38;5;241m=\u001b[39m [action_history[i] \u001b[38;5;28;01mfor\u001b[39;00m i \u001b[38;5;129;01min\u001b[39;00m random_indices]\n\u001b[1;32m     97\u001b[0m \u001b[38;5;66;03m# Create for the sample states the targets (r+gamma * max Q(...) )\u001b[39;00m\n\u001b[0;32m---> 98\u001b[0m Q_next_state \u001b[38;5;241m=\u001b[39m \u001b[43mmodel_target\u001b[49m\u001b[38;5;241;43m.\u001b[39;49m\u001b[43mpredict\u001b[49m\u001b[43m(\u001b[49m\u001b[43mstate_next_sample\u001b[49m\u001b[43m)\u001b[49m\n\u001b[1;32m     99\u001b[0m Q_targets \u001b[38;5;241m=\u001b[39m rewards_sample \u001b[38;5;241m+\u001b[39m gamma \u001b[38;5;241m*\u001b[39m np\u001b[38;5;241m.\u001b[39mmax(Q_next_state)\n\u001b[1;32m    101\u001b[0m \u001b[38;5;66;03m# If the episode was ended (done_sample value is 1)\u001b[39;00m\n\u001b[1;32m    102\u001b[0m \u001b[38;5;66;03m# you can penalize the Q value of the target by some value `penalty`\u001b[39;00m\n",
      "File \u001b[0;32m/opt/conda/lib/python3.10/site-packages/keras/src/utils/traceback_utils.py:122\u001b[0m, in \u001b[0;36mfilter_traceback.<locals>.error_handler\u001b[0;34m(*args, **kwargs)\u001b[0m\n\u001b[1;32m    119\u001b[0m     filtered_tb \u001b[38;5;241m=\u001b[39m _process_traceback_frames(e\u001b[38;5;241m.\u001b[39m__traceback__)\n\u001b[1;32m    120\u001b[0m     \u001b[38;5;66;03m# To get the full stack trace, call:\u001b[39;00m\n\u001b[1;32m    121\u001b[0m     \u001b[38;5;66;03m# `keras.config.disable_traceback_filtering()`\u001b[39;00m\n\u001b[0;32m--> 122\u001b[0m     \u001b[38;5;28;01mraise\u001b[39;00m e\u001b[38;5;241m.\u001b[39mwith_traceback(filtered_tb) \u001b[38;5;28;01mfrom\u001b[39;00m \u001b[38;5;28;01mNone\u001b[39;00m\n\u001b[1;32m    123\u001b[0m \u001b[38;5;28;01mfinally\u001b[39;00m:\n\u001b[1;32m    124\u001b[0m     \u001b[38;5;28;01mdel\u001b[39;00m filtered_tb\n",
      "File \u001b[0;32m/opt/conda/lib/python3.10/site-packages/keras/src/models/functional.py:280\u001b[0m, in \u001b[0;36mFunctional._adjust_input_rank\u001b[0;34m(self, flat_inputs)\u001b[0m\n\u001b[1;32m    278\u001b[0m             adjusted\u001b[38;5;241m.\u001b[39mappend(ops\u001b[38;5;241m.\u001b[39mexpand_dims(x, axis\u001b[38;5;241m=\u001b[39m\u001b[38;5;241m-\u001b[39m\u001b[38;5;241m1\u001b[39m))\n\u001b[1;32m    279\u001b[0m             \u001b[38;5;28;01mcontinue\u001b[39;00m\n\u001b[0;32m--> 280\u001b[0m     \u001b[38;5;28;01mraise\u001b[39;00m \u001b[38;5;167;01mValueError\u001b[39;00m(\n\u001b[1;32m    281\u001b[0m         \u001b[38;5;124mf\u001b[39m\u001b[38;5;124m\"\u001b[39m\u001b[38;5;124mInvalid input shape for input \u001b[39m\u001b[38;5;132;01m{\u001b[39;00mx\u001b[38;5;132;01m}\u001b[39;00m\u001b[38;5;124m. Expected shape \u001b[39m\u001b[38;5;124m\"\u001b[39m\n\u001b[1;32m    282\u001b[0m         \u001b[38;5;124mf\u001b[39m\u001b[38;5;124m\"\u001b[39m\u001b[38;5;132;01m{\u001b[39;00mref_shape\u001b[38;5;132;01m}\u001b[39;00m\u001b[38;5;124m, but input has incompatible shape \u001b[39m\u001b[38;5;132;01m{\u001b[39;00mx\u001b[38;5;241m.\u001b[39mshape\u001b[38;5;132;01m}\u001b[39;00m\u001b[38;5;124m\"\u001b[39m\n\u001b[1;32m    283\u001b[0m     )\n\u001b[1;32m    284\u001b[0m \u001b[38;5;66;03m# Add back metadata.\u001b[39;00m\n\u001b[1;32m    285\u001b[0m \u001b[38;5;28;01mfor\u001b[39;00m i \u001b[38;5;129;01min\u001b[39;00m \u001b[38;5;28mrange\u001b[39m(\u001b[38;5;28mlen\u001b[39m(flat_inputs)):\n",
      "\u001b[0;31mValueError\u001b[0m: Exception encountered when calling Sequential.call().\n\n\u001b[1mInvalid input shape for input Tensor(\"data:0\", shape=(4,), dtype=float32). Expected shape (32, 4), but input has incompatible shape (4,)\u001b[0m\n\nArguments received by Sequential.call():\n  • inputs=('tf.Tensor(shape=(4,), dtype=float32)', 'tf.Tensor(shape=(4,), dtype=float32)', 'tf.Tensor(shape=(4,), dtype=float32)', 'tf.Tensor(shape=(4,), dtype=float32)', 'tf.Tensor(shape=(4,), dtype=float32)', 'tf.Tensor(shape=(4,), dtype=float32)', 'tf.Tensor(shape=(4,), dtype=float32)', 'tf.Tensor(shape=(4,), dtype=float32)', 'tf.Tensor(shape=(4,), dtype=float32)', 'tf.Tensor(shape=(4,), dtype=float32)', 'tf.Tensor(shape=(4,), dtype=float32)', 'tf.Tensor(shape=(4,), dtype=float32)', 'tf.Tensor(shape=(4,), dtype=float32)', 'tf.Tensor(shape=(4,), dtype=float32)', 'tf.Tensor(shape=(4,), dtype=float32)', 'tf.Tensor(shape=(4,), dtype=float32)', 'tf.Tensor(shape=(4,), dtype=float32)', 'tf.Tensor(shape=(4,), dtype=float32)', 'tf.Tensor(shape=(4,), dtype=float32)', 'tf.Tensor(shape=(4,), dtype=float32)', 'tf.Tensor(shape=(4,), dtype=float32)', 'tf.Tensor(shape=(4,), dtype=float32)', 'tf.Tensor(shape=(4,), dtype=float32)', 'tf.Tensor(shape=(4,), dtype=float32)', 'tf.Tensor(shape=(4,), dtype=float32)', 'tf.Tensor(shape=(4,), dtype=float32)', 'tf.Tensor(shape=(4,), dtype=float32)', 'tf.Tensor(shape=(4,), dtype=float32)', 'tf.Tensor(shape=(4,), dtype=float32)', 'tf.Tensor(shape=(4,), dtype=float32)', 'tf.Tensor(shape=(4,), dtype=float32)', 'tf.Tensor(shape=(4,), dtype=float32)')\n  • training=False\n  • mask=('None', 'None', 'None', 'None', 'None', 'None', 'None', 'None', 'None', 'None', 'None', 'None', 'None', 'None', 'None', 'None', 'None', 'None', 'None', 'None', 'None', 'None', 'None', 'None', 'None', 'None', 'None', 'None', 'None', 'None', 'None', 'None')"
     ]
    }
   ],
   "source": [
    "import random\n",
    "\n",
    "optimizer = keras.optimizers.Adam(learning_rate=0.0005)\n",
    "\n",
    "# Our Experience Replay memory \n",
    "action_history = []\n",
    "state_history = []\n",
    "state_next_history = []\n",
    "rewards_history = []\n",
    "done_history = []\n",
    "episode_reward_history = []\n",
    "\n",
    "# Replay memory size\n",
    "max_memory = 1000 # You can experiment with different sizes.\n",
    "\n",
    "running_reward = 0\n",
    "episode_count = 0\n",
    "timestep_count = 0\n",
    "\n",
    "\n",
    "# how often to train your model - this allows you to speed up learning\n",
    "# by not performing in every iteration learning. See also refernece paper\n",
    "# you can set this value to other values like 1 as well to learn every time \n",
    "\n",
    "update_after_actions = 4\n",
    "\n",
    "# How often to update the target network\n",
    "target_update_every = 1000\n",
    "loss_function = keras.losses.Huber() # You can use the Huber loss function or the mean squared error function \n",
    "max_steps_per_episode = 1000\n",
    "\n",
    "max_episodes = 500\n",
    "# max_steps_per_episode = 1000\n",
    "last_n_reward = 100\n",
    "\n",
    "\n",
    "epsilon = 1 #means 100% probability of choosing random action\n",
    "epsilon_decay_rate = 1/(max_episodes*0.9) # reduce the dependence on random actions over time\n",
    "rng = np.random.default_rng() # creates a random number generator to be called later\n",
    "\n",
    "for episode in range(max_episodes):\n",
    "    #state = np.array(env.reset()) #their code\n",
    "    state = env.reset()[0]\n",
    "    state = np.array(state)\n",
    "    print(\"state\", state)\n",
    "    \n",
    "    episode_reward = 0\n",
    "\n",
    "    for timestep in range(1, max_steps_per_episode):\n",
    "        timestep_count += 1\n",
    "        \n",
    "        # exploration\n",
    "        if rng.random() < epsilon:\n",
    "            # Take random action\n",
    "            action = np.random.choice(actsize)\n",
    "        else:\n",
    "            # Predict action Q-values\n",
    "            # From environment state\n",
    "            state_t = tf.convert_to_tensor(state)\n",
    "            state_t = tf.expand_dims(state_tensor, 0)\n",
    "            action_vals = model(state_t, training=False)\n",
    "            # Choose the best action\n",
    "            action = np.argmax(action_vals)\n",
    "\n",
    "        # follow selected action\n",
    "        # asdf = env.step(action)\n",
    "        # print(\"env.step(action)\", asdf, len(asdf))\n",
    "        # state_next, reward, done, _ = env.step(action) #their code\n",
    "        state_next, reward, done, _, _ = env.step(action) # my code\n",
    "        state_next = np.array(state_next)\n",
    "        episode_reward += reward\n",
    "\n",
    "        # Save action/states and other information in replay buffer\n",
    "        action_history.append(action)\n",
    "        state_history.append(state)\n",
    "        state_next_history.append(state_next)\n",
    "        rewards_history.append(reward)\n",
    "        done_history.append(done)\n",
    "        # ...\n",
    "        # ...\n",
    "\n",
    "        state = state_next\n",
    "\n",
    "        # Update every Xth frame to speed up (optional)\n",
    "        # and if you have sufficient history\n",
    "        if timestep_count % update_after_actions == 0 and len(action_history) > batch_size:\n",
    "            \n",
    "            #  Sample a set of batch_size memories from the history\n",
    "            random_indices = random.sample(range(len(action_history)), batch_size)\n",
    "            \n",
    "            state_sample = [state_history[i] for i in random_indices]\n",
    "            state_next_sample = [state_next_history[i] for i in random_indices]\n",
    "            rewards_sample = [rewards_history[i] for i in random_indices]\n",
    "            done_sample = [done_history[i] for i in random_indices]\n",
    "            action_sample = [action_history[i] for i in random_indices]\n",
    "\n",
    "            # Create for the sample states the targets (r+gamma * max Q(...) )\n",
    "            Q_next_state = model_target.predict(state_next_sample)\n",
    "            Q_targets = rewards_sample + gamma * np.max(Q_next_state)\n",
    "\n",
    "            # If the episode was ended (done_sample value is 1)\n",
    "            # you can penalize the Q value of the target by some value `penalty`\n",
    "            Q_targets = Q_targets * (1 - done_sample) - penalty*done_sample\n",
    "\n",
    "\n",
    "            # What actions are relevant and need updating\n",
    "            relevant_actions = tf.one_hot(action_sample, actsize)\n",
    "            # we will use Gradient tape to do a custom gradient \n",
    "            # in the `with` environment we will record a set of operations\n",
    "            # and then we will take gradients with respect to the trainable parameters\n",
    "            # in the neural network\n",
    "            with tf.GradientTape() as tape:\n",
    "                # Train the model on your action selecting network\n",
    "                q_values = model(state_sample) \n",
    "                # We consider only the relevant actions\n",
    "                Q_of_actions = tf.reduce_sum(tf.multiply(q_values, relevant_actions), axis=1)\n",
    "                # Calculate loss between principal network and target network\n",
    "                loss = loss_function(Q_targets, Q_of_actions)\n",
    "\n",
    "            # Nudge the weights of the trainable variables towards \n",
    "            grads = tape.gradient(loss, model.trainable_variables)\n",
    "            optimizer.apply_gradients(zip(grads, model.trainable_variables))\n",
    "\n",
    "        if timestep_count % target_update_every == 0:\n",
    "            # update the the target network with new weights\n",
    "            model_target.set_weights(model.get_weights())\n",
    "            # Log details\n",
    "            template = \"running reward: {:.2f} at episode {}, frame count {}, epsilon {}\"\n",
    "            print(template.format(running_reward, episode_count, frame_count,epsilon))\n",
    "            \n",
    "        # Don't let the memory grow beyond the limit\n",
    "        if len(rewards_history) > max_memory:\n",
    "            del rewards_history[:1]\n",
    "            del state_history[:1]\n",
    "            del state_next_history[:1]\n",
    "            del action_history[:1]\n",
    "            del done_history[:1]\n",
    "        if done: break\n",
    "\n",
    "    # reward of last 100\n",
    "    episode_reward_history.append(episode_reward)\n",
    "    if len(episode_reward_history) > last_n_reward: del episode_reward_history[:1]\n",
    "    running_reward = np.mean(episode_reward_history)\n",
    "    episode_count += 1\n",
    "    \n",
    "    epsilon = max(0, epsilon - epsilon_decay_rate)\n",
    "\n",
    "    # If you want to stop your training once you achieve the reward you want you can\n",
    "    # have an if statement here. Alternatively you can stop after a fixed number\n",
    "    # of episodes."
   ]
  },
  {
   "cell_type": "markdown",
   "metadata": {
    "id": "Y-kUmOPTiMXX"
   },
   "source": [
    "Evaluate the performance of the agent on 100 episodes on the environment and print out the average testing performance. Alternatively you can make sure the code above terminates with 100 episodes where there is no exploration at all (epsilon=0)."
   ]
  },
  {
   "cell_type": "code",
   "execution_count": null,
   "metadata": {
    "id": "xe2V09jdiNXI"
   },
   "outputs": [],
   "source": [
    "# YOUR CODE Here"
   ]
  }
 ],
 "metadata": {
  "accelerator": "GPU",
  "colab": {
   "provenance": []
  },
  "kernelspec": {
   "display_name": "Python 3 (Local)",
   "language": "python",
   "name": "python3"
  },
  "language_info": {
   "codemirror_mode": {
    "name": "ipython",
    "version": 3
   },
   "file_extension": ".py",
   "mimetype": "text/x-python",
   "name": "python",
   "nbconvert_exporter": "python",
   "pygments_lexer": "ipython3",
   "version": "3.10.13"
  }
 },
 "nbformat": 4,
 "nbformat_minor": 4
}
